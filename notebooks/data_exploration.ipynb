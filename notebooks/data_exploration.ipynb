{
 "cells": [
  {
   "cell_type": "markdown",
   "metadata": {},
   "source": [
    "# Wine Quality Dataset - Exploratory Data Analysis\n",
    "# ===============================================\n",
    "\n",
    "This notebook explores the wine quality dataset to understand the data structure, distributions, and relationships between features."
   ]
  },
  {
   "cell_type": "code",
   "execution_count": null,
   "metadata": {},
   "outputs": [],
   "source": [
    "# Import required libraries\n",
    "import pandas as pd\n",
    "import numpy as np\n",
    "import matplotlib.pyplot as plt\n",
    "import seaborn as sns\n",
    "from scipy import stats\n",
    "import warnings\n",
    "warnings.filterwarnings('ignore')\n",
    "\n",
    "# Set plotting style\n",
    "plt.style.use('seaborn-v0_8')\n",
    "sns.set_palette(\"husl\")\n",
    "\n",
    "print(\"Wine Quality Dataset - Exploratory Data Analysis\")\n",
    "print(\"=\" * 50)"
   ]
  },
  {
   "cell_type": "markdown",
   "metadata": {},
   "source": [
    "## 1. Data Loading"
   ]
  },
  {
   "cell_type": "code",
   "execution_count": null,
   "metadata": {},
   "outputs": [],
   "source": [
    "# Load the wine quality datasets\n",
    "try:\n",
    "    # Download from UCI repository\n",
    "    red_wine_url = \"https://archive.ics.uci.edu/ml/machine-learning-databases/wine-quality/winequality-red.csv\"\n",
    "    white_wine_url = \"https://archive.ics.uci.edu/ml/machine-learning-databases/wine-quality/winequality-white.csv\"\n",
    "    \n",
    "    red_wine = pd.read_csv(red_wine_url, sep=';')\n",
    "    white_wine = pd.read_csv(white_wine_url, sep=';')\n",
    "    \n",
    "    print(f\"✓ Red wine data loaded: {red_wine.shape}\")\n",
    "    print(f\"✓ White wine data loaded: {white_wine.shape}\")\n",
    "    \n",
    "except Exception as e:\n",
    "    print(f\"Error loading data: {e}\")\n",
    "    print(\"Please ensure you have internet connection\")\n",
    "\n",
    "# Add wine type column\n",
    "red_wine['wine_type'] = 'red'\n",
    "white_wine['wine_type'] = 'white'\n",
    "\n",
    "# Combine datasets\n",
    "wine_data = pd.concat([red_wine, white_wine], ignore_index=True)\n",
    "print(f\"✓ Combined dataset shape: {wine_data.shape}\")"
   ]
  },
  {
   "cell_type": "markdown",
   "metadata": {},
   "source": [
    "## 2. Basic Dataset Information"
   ]
  },
  {
   "cell_type": "code",
   "execution_count": null,
   "metadata": {},
   "outputs": [],
   "source": [
    "# Display basic information\n",
    "print(\"Dataset Info:\")\n",
    "print(wine_data.info())\n",
    "\n",
    "print(\"\\nFirst 5 rows:\")\n",
    "display(wine_data.head())\n",
    "\n",
    "print(\"\\nBasic Statistics:\")\n",
    "display(wine_data.describe())"
   ]
  },
  {
   "cell_type": "code",
   "execution_count": null,
   "metadata": {},
   "outputs": [],
   "source": [
    "# Check for missing values\n",
    "print(\"Missing Values:\")\n",
    "print(wine_data.isnull().sum())\n",
    "\n",
    "print(f\"\\nUnique Quality Scores: {sorted(wine_data['quality'].unique())}\")\n",
    "print(f\"Quality Score Distribution:\")\n",
    "print(wine_data['quality'].value_counts().sort_index())"
   ]
  },
  {
   "cell_type": "markdown",
   "metadata": {},
   "source": [
    "## 3. Data Visualization"
   ]
  },
  {
   "cell_type": "code",
   "execution_count": null,
   "metadata": {},
   "outputs": [],
   "source": [
    "# Quality distribution\n",
    "fig, axes = plt.subplots(2, 2, figsize=(15, 12))\n",
    "\n",
    "# Overall quality distribution\n",
    "wine_data['quality'].hist(bins=20, edgecolor='black', alpha=0.7, ax=axes[0,0])\n",
    "axes[0,0].set_title('Distribution of Wine Quality Scores')\n",
    "axes[0,0].set_xlabel('Quality Score')\n",
    "axes[0,0].set_ylabel('Frequency')\n",
    "\n",
    "# Quality by wine type\n",
    "wine_data.boxplot(column='quality', by='wine_type', ax=axes[0,1])\n",
    "axes[0,1].set_title('Quality Distribution by Wine Type')\n",
    "\n",
    "# Alcohol vs Quality\n",
    "axes[1,0].scatter(wine_data['alcohol'], wine_data['quality'], alpha=0.5)\n",
    "axes[1,0].set_xlabel('Alcohol Content')\n",
    "axes[1,0].set_ylabel('Quality')\n",
    "axes[1,0].set_title('Alcohol vs Quality')\n",
    "\n",
    "# pH vs Quality\n",
    "axes[1,1].scatter(wine_data['pH'], wine_data['quality'], alpha=0.5)\n",
    "axes[1,1].set_xlabel('pH')\n",
    "axes[1,1].set_ylabel('Quality')\n",
    "axes[1,1].set_title('pH vs Quality')\n",
    "\n",
    "plt.tight_layout()\n",
    "plt.show()"
   ]
  },
  {
   "cell_type": "code",
   "execution_count": null,
   "metadata": {},
   "outputs": [],
   "source": [
    "# Correlation matrix\n",
    "plt.figure(figsize=(12, 10))\n",
    "numerical_cols = wine_data.select_dtypes(include=[np.number]).columns\n",
    "correlation_matrix = wine_data[numerical_cols].corr()\n",
    "\n",
    "sns.heatmap(correlation_matrix, annot=True, cmap='coolwarm', center=0,\n",
    "            square=True, linewidths=0.5)\n",
    "plt.title('Feature Correlation Matrix')\n",
    "plt.show()\n",
    "\n",
    "# Features most correlated with quality\n",
    "quality_corr = correlation_matrix['quality'].abs().sort_values(ascending=False)\n",
    "print(f\"\\nFeatures most correlated with quality:\")\n",
    "print(quality_corr.head(10))"
   ]
  },
  {
   "cell_type": "markdown",
   "metadata": {},
   "source": [
    "## 4. Key Insights"
   ]
  },
  {
   "cell_type": "code",
   "execution_count": null,
   "metadata": {},
   "outputs": [],
   "source": [
    "# Summary statistics\n",
    "total_samples = len(wine_data)\n",
    "red_samples = len(wine_data[wine_data['wine_type'] == 'red'])\n",
    "white_samples = len(wine_data[wine_data['wine_type'] == 'white'])\n",
    "\n",
    "print(\"KEY INSIGHTS\")\n",
    "print(\"=\" * 50)\n",
    "print(f\"Dataset Summary:\")\n",
    "print(f\"  • Total samples: {total_samples:,}\")\n",
    "print(f\"  • Red wine samples: {red_samples:,} ({red_samples/total_samples*100:.1f}%)\")\n",
    "print(f\"  • White wine samples: {white_samples:,} ({white_samples/total_samples*100:.1f}%)\")\n",
    "print(f\"  • Quality range: {wine_data['quality'].min()}-{wine_data['quality'].max()}\")\n",
    "print(f\"  • Average quality: {wine_data['quality'].mean():.2f}\")\n",
    "\n",
    "print(f\"\\nTop Quality Predictors:\")\n",
    "for i, (feature, corr) in enumerate(quality_corr.head(6).items()):\n",
    "    if feature != 'quality':\n",
    "        print(f\"  {i}. {feature}: {corr:.3f}\")\n",
    "\n",
    "print(f\"\\nRecommendations for Modeling:\")\n",
    "print(f\"  • Target variable: Wine quality (3-9 scale)\")\n",
    "print(f\"  • Consider both regression and classification approaches\")\n",
    "print(f\"  • Feature scaling recommended due to different ranges\")\n",
    "print(f\"  • Wine type is important categorical feature\")\n",
    "print(f\"  • Strong correlations suggest good predictive potential\")"
   ]
  }
 ],
 "metadata": {
  "kernelspec": {
   "display_name": "Python 3",
   "language": "python",
   "name": "python3"
  },
  "language_info": {
   "codemirror_mode": {
    "name": "ipython",
    "version": 3
   },
   "file_extension": ".py",
   "mimetype": "text/x-python",
   "name": "python",
   "nbconvert_exporter": "python",
   "pygments_lexer": "ipython3",
   "version": "3.8.5"
  }
 },
 "nbformat": 4,
 "nbformat_minor": 4
}